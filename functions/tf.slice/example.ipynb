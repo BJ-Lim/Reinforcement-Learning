{
 "cells": [
  {
   "cell_type": "code",
   "execution_count": 1,
   "metadata": {},
   "outputs": [
    {
     "name": "stdout",
     "output_type": "stream",
     "text": [
      "[t1]= [[[3 3 3]]]\n",
      "[t2]= [[[3 3 3]\n",
      "  [4 4 4]]]\n",
      "[t3]= [[[3 3 3]]\n",
      "\n",
      " [[5 5 5]]]\n"
     ]
    }
   ],
   "source": [
    "import tensorflow as tf\n",
    "\n",
    "t = tf.constant([[[1,1,1], [2,2,2]],\n",
    "                 [[3,3,3], [4,4,4]],\n",
    "                 [[5,5,5], [6,6,6]]])\n",
    "\n",
    "t1 = tf.slice(t, [1,0,0], [1,1,3])\n",
    "t2 = tf.slice(t, [1,0,0], [1,2,3])\n",
    "t3 = tf.slice(t, [1,0,0], [2,1,3])\n",
    "\n",
    "with tf.Session() as sess:\n",
    "    print(\"[t1]=\",sess.run(t1))\n",
    "    print(\"[t2]=\",sess.run(t2))\n",
    "    print(\"[t3]=\",sess.run(t3))"
   ]
  },
  {
   "cell_type": "code",
   "execution_count": 2,
   "metadata": {},
   "outputs": [
    {
     "name": "stdout",
     "output_type": "stream",
     "text": [
      "[et1]= [[[[ 3  3  3]]\n",
      "\n",
      "  [[ 5  5  5]]]\n",
      "\n",
      "\n",
      " [[[-3 -3 -3]]\n",
      "\n",
      "  [[-5 -5 -5]]]]\n"
     ]
    }
   ],
   "source": [
    "et = tf.constant([[[[1,1,1], [2,2,2]],\n",
    "                  [[3,3,3], [4,4,4]],\n",
    "                  [[5,5,5], [6,6,6]]],\n",
    "                 [[[-1,-1,-1], [-2,-2,-2]],\n",
    "                  [[-3,-3,-3], [-4,-4,-4]],\n",
    "                  [[-5,-5,-5], [-6,-6,-6]]]])\n",
    "\n",
    "et1 = tf.slice(et, [0,1,0,0], [2,2,1,3])\n",
    "\n",
    "with tf.Session() as sess:\n",
    "    print(\"[et1]=\",sess.run(et1))"
   ]
  },
  {
   "cell_type": "code",
   "execution_count": null,
   "metadata": {},
   "outputs": [],
   "source": []
  }
 ],
 "metadata": {
  "kernelspec": {
   "display_name": "Python 3",
   "language": "python",
   "name": "python3"
  },
  "language_info": {
   "codemirror_mode": {
    "name": "ipython",
    "version": 3
   },
   "file_extension": ".py",
   "mimetype": "text/x-python",
   "name": "python",
   "nbconvert_exporter": "python",
   "pygments_lexer": "ipython3",
   "version": "3.6.8"
  }
 },
 "nbformat": 4,
 "nbformat_minor": 2
}
