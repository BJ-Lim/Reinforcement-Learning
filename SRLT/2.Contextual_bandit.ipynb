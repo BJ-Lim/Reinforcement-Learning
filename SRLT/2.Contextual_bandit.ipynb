{
 "cells": [
  {
   "cell_type": "code",
   "execution_count": 1,
   "metadata": {},
   "outputs": [],
   "source": [
    "# import basic packages \n",
    "import tensorflow as tf\n",
    "import tensorflow.contrib.slim as slim\n",
    "import numpy as np"
   ]
  },
  {
   "cell_type": "code",
   "execution_count": 2,
   "metadata": {},
   "outputs": [],
   "source": [
    "class contextual_bandit():\n",
    "    def __init__(self):\n",
    "        self.state = 0\n",
    "        self.bandits = np.array([[0.2,0,-0.0,-5], [0.1, -5, 1, 0.25], [-5,5,5,5]])\n",
    "        self.num_bandits = self.bandits.shape[0]\n",
    "        self.num_actions = self.bandits.shape[1]\n",
    "        \n",
    "    def getBandit(self):\n",
    "        self.state = np.random.randint(0, len(self.bandits))\n",
    "        return self.state\n",
    "    \n",
    "    def pullArm(self, action):\n",
    "        bandit = self.bandits[self.state, action]\n",
    "        result = np.random.randn(1)\n",
    "        if result > bandit:\n",
    "            return 1\n",
    "        else:\n",
    "            return -1"
   ]
  },
  {
   "cell_type": "code",
   "execution_count": 3,
   "metadata": {},
   "outputs": [],
   "source": [
    "class agent():\n",
    "    def __init__(self, lr, s_size, a_size):\n",
    "        self.state_in = tf.placeholder(shape=[1], dtype=tf.int32)\n",
    "        state_in_OH = slim.one_hot_encoding(self.state_in,s_size)\n",
    "        output = slim.fully_connected(state_in_OH, a_size, \\\n",
    "                                     biases_initializer=None, activation_fn=tf.nn.sigmoid,\\\n",
    "                                     weights_initializer=tf.ones_initializer())\n",
    "        self.output = tf.reshape(output, [-1])\n",
    "        self.chosen_action = tf.argmax(self.output, 0)\n",
    "        \n",
    "        self.reward_holder = tf.placeholder(shape=[1], dtype=tf.float32)\n",
    "        self.action_holder = tf.placeholder(shape=[1], dtype=tf.int32)\n",
    "        self.responsible_weight = tf.slice(self.output, self.action_holder, [1])\n",
    "        self.loss = -(tf.log(self.responsible_weight)*self.reward_holder)\n",
    "        optimizer = tf.train.GradientDescentOptimizer(learning_rate=lr)\n",
    "        self.update = optimizer.minimize(self.loss)"
   ]
  },
  {
   "cell_type": "code",
   "execution_count": 4,
   "metadata": {},
   "outputs": [
    {
     "name": "stdout",
     "output_type": "stream",
     "text": [
      "Mean reward for each of the 3 bandits: [0.   0.25 0.  ]\n",
      "Mean reward for each of the 3 bandits: [12.   38.25 34.5 ]\n",
      "Mean reward for each of the 3 bandits: [54.   73.   71.75]\n",
      "Mean reward for each of the 3 bandits: [ 94.5  107.25 107.  ]\n",
      "Mean reward for each of the 3 bandits: [136.   141.75 139.  ]\n",
      "Mean reward for each of the 3 bandits: [175.5  177.25 175.5 ]\n",
      "Mean reward for each of the 3 bandits: [214.   213.75 212.5 ]\n",
      "Mean reward for each of the 3 bandits: [249.5  255.75 247.5 ]\n",
      "Mean reward for each of the 3 bandits: [289.75 294.   284.5 ]\n",
      "Mean reward for each of the 3 bandits: [330.25 329.75 321.25]\n",
      "Mean reward for each of the 3 bandits: [370.5  362.25 359.5 ]\n",
      "Mean reward for each of the 3 bandits: [411.25 402.5  392.5 ]\n",
      "Mean reward for each of the 3 bandits: [448.75 434.75 434.75]\n",
      "Mean reward for each of the 3 bandits: [487.5  467.75 472.5 ]\n",
      "Mean reward for each of the 3 bandits: [526.5  505.25 506.  ]\n",
      "Mean reward for each of the 3 bandits: [565.5  543.   538.25]\n",
      "Mean reward for each of the 3 bandits: [602.75 579.25 570.25]\n",
      "Mean reward for each of the 3 bandits: [641.25 611.5  609.  ]\n",
      "Mean reward for each of the 3 bandits: [682.   646.5  642.75]\n",
      "Mean reward for each of the 3 bandits: [722.75 681.   678.5 ]\n",
      "The agent thinks action 4 for bandit 1 is the most promising....\n",
      "...and it was right!\n",
      "The agent thinks action 2 for bandit 2 is the most promising....\n",
      "...and it was right!\n",
      "The agent thinks action 1 for bandit 3 is the most promising....\n",
      "...and it was right!\n"
     ]
    }
   ],
   "source": [
    "tf.reset_default_graph()\n",
    "cBandit = contextual_bandit()\n",
    "myAgent = agent(lr=0.001, s_size=cBandit.num_bandits,a_size=cBandit.num_actions)\n",
    "weights = tf.trainable_variables()[0]\n",
    "\n",
    "total_episodes = 10000\n",
    "total_reward = np.zeros([cBandit.num_bandits, cBandit.num_actions])\n",
    "e = 0.1\n",
    "\n",
    "init = tf.global_variables_initializer()\n",
    "\n",
    "with tf.Session() as sess:\n",
    "    sess.run(init)\n",
    "    i = 0\n",
    "    while i < total_episodes:\n",
    "        s = cBandit.getBandit()\n",
    "        if np.random.rand(1) < e :\n",
    "            action = np.random.randint(cBandit.num_actions)\n",
    "        else:\n",
    "            action = sess.run(myAgent.chosen_action, feed_dict={myAgent.state_in:[s]})\n",
    "            \n",
    "        reward = cBandit.pullArm(action)\n",
    "        \n",
    "        feed_dict = {myAgent.reward_holder:[reward], \\\n",
    "                    myAgent.action_holder:[action], myAgent.state_in:[s]}\n",
    "        _,ww = sess.run([myAgent.update, weights], feed_dict=feed_dict)\n",
    "        \n",
    "        total_reward[s, action] += reward\n",
    "        if i%500 == 0:\n",
    "            print(\"Mean reward for each of the \" + str(cBandit.num_bandits) + \n",
    "                 \" bandits: \" + str(np.mean(total_reward, axis=1)))\n",
    "        i+=1\n",
    "        \n",
    "for a in range(cBandit.num_bandits):\n",
    "    print(\"The agent thinks action \" + str(np.argmax(ww[a])+1) + \" for bandit \" + \n",
    "         str(a+1) + \" is the most promising....\")\n",
    "    if np.argmax(ww[a]) == np.argmin(cBandit.bandits[a]):\n",
    "        print(\"...and it was right!\")\n",
    "    else:\n",
    "        print(\"...and it was wrong!\")"
   ]
  },
  {
   "cell_type": "code",
   "execution_count": null,
   "metadata": {},
   "outputs": [],
   "source": []
  },
  {
   "cell_type": "code",
   "execution_count": null,
   "metadata": {},
   "outputs": [],
   "source": []
  },
  {
   "cell_type": "code",
   "execution_count": null,
   "metadata": {},
   "outputs": [],
   "source": []
  }
 ],
 "metadata": {
  "kernelspec": {
   "display_name": "Python 3",
   "language": "python",
   "name": "python3"
  },
  "language_info": {
   "codemirror_mode": {
    "name": "ipython",
    "version": 3
   },
   "file_extension": ".py",
   "mimetype": "text/x-python",
   "name": "python",
   "nbconvert_exporter": "python",
   "pygments_lexer": "ipython3",
   "version": "3.6.8"
  }
 },
 "nbformat": 4,
 "nbformat_minor": 2
}
