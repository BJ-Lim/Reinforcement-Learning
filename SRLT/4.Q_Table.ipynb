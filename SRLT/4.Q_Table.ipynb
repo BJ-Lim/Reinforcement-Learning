{
 "cells": [
  {
   "cell_type": "markdown",
   "metadata": {},
   "source": [
    "# Q 러닝(Table)"
   ]
  },
  {
   "cell_type": "markdown",
   "metadata": {},
   "source": [
    "- Bellman Equation : ${ Q\\left( s,a \\right)  }^{ * } = r + \\gamma \\left( max\\left( Q\\left( s',a' \\right)  \\right)  \\right) $\n",
    "  - 기대되는 장기 보상 = 현재의 액션에서 얻는 즉각적 보상 + 다음 상태에서 취할 최선의 미래의 액션에서 기대되는 보상\n",
    "  - Q : 어떤 상태와 액션에 대한 최적의 값\n",
    "  - s : 어떤 상태\n",
    "  - a : 어떤 액션\n",
    "  - r : 현재 보상\n",
    "  - s' : 다음 상태\n",
    "  - a' : 다음 액션\n",
    "  - $\\gamma$ : 할인 계수(현재의 보상에 비해 미래의 가능한 보상이 얼마나 중요한지 비율을 결정)"
   ]
  },
  {
   "cell_type": "markdown",
   "metadata": {},
   "source": [
    "### ex) Q테이블을 이용한 얼어붙은 강 예제(Frozen_lake)"
   ]
  },
  {
   "cell_type": "code",
   "execution_count": 1,
   "metadata": {},
   "outputs": [],
   "source": [
    "import gym\n",
    "import numpy as np\n",
    "import random\n",
    "import matplotlib.pyplot as plt\n",
    "%matplotlib inline"
   ]
  },
  {
   "cell_type": "code",
   "execution_count": 2,
   "metadata": {},
   "outputs": [],
   "source": [
    "env = gym.make('FrozenLake-v0')"
   ]
  },
  {
   "cell_type": "code",
   "execution_count": 3,
   "metadata": {},
   "outputs": [],
   "source": [
    "Q = np.zeros([env.observation_space.n, env.action_space.n])\n",
    "lr = .85\n",
    "y = .99\n",
    "num_episodes = 2000\n",
    "rList = []\n",
    "for i in range(num_episodes):\n",
    "    s = env.reset()\n",
    "    rAll = 0\n",
    "    d = False\n",
    "    j = 0\n",
    "    while j < 99:\n",
    "        j+=1\n",
    "        a = np.argmax(Q[s,:] + np.random.randn(1,env.action_space.n) * (1./(i+1)))\n",
    "        s1, r, d, _ = env.step(a)\n",
    "        Q[s,a] = Q[s,a] + lr*(r + y*np.max(Q[s1,:]) - Q[s,a])\n",
    "        rAll += r\n",
    "        s = s1\n",
    "        if d == True:\n",
    "            break\n",
    "    rList.append(rAll)"
   ]
  },
  {
   "cell_type": "code",
   "execution_count": 4,
   "metadata": {},
   "outputs": [
    {
     "name": "stdout",
     "output_type": "stream",
     "text": [
      "Score over time: 0.5245\n"
     ]
    }
   ],
   "source": [
    "print(\"Score over time: \" + str(sum(rList)/num_episodes))"
   ]
  },
  {
   "cell_type": "code",
   "execution_count": 5,
   "metadata": {},
   "outputs": [
    {
     "name": "stdout",
     "output_type": "stream",
     "text": [
      "Final Q-Table Values \n",
      "[[7.56155932e-01 1.99656640e-02 2.06111853e-02 1.82003380e-02]\n",
      " [5.06813230e-05 2.27286594e-03 2.76290389e-03 3.71311033e-01]\n",
      " [3.84801694e-01 4.64848843e-03 2.94131946e-03 1.49490000e-02]\n",
      " [2.55433282e-03 4.18414324e-04 1.97327643e-03 1.48157337e-02]\n",
      " [8.38793884e-01 2.97802091e-05 1.66304017e-06 2.12494073e-02]\n",
      " [0.00000000e+00 0.00000000e+00 0.00000000e+00 0.00000000e+00]\n",
      " [1.79094681e-01 3.60751595e-07 1.72906917e-04 8.96084480e-05]\n",
      " [0.00000000e+00 0.00000000e+00 0.00000000e+00 0.00000000e+00]\n",
      " [3.54555499e-04 2.94305485e-03 4.65715061e-04 3.52862023e-01]\n",
      " [4.03919281e-04 7.43811157e-01 0.00000000e+00 5.06612927e-03]\n",
      " [8.32643695e-01 3.45184869e-04 6.07437837e-04 0.00000000e+00]\n",
      " [0.00000000e+00 0.00000000e+00 0.00000000e+00 0.00000000e+00]\n",
      " [0.00000000e+00 0.00000000e+00 0.00000000e+00 0.00000000e+00]\n",
      " [0.00000000e+00 0.00000000e+00 9.62709364e-01 6.48505349e-04]\n",
      " [0.00000000e+00 0.00000000e+00 0.00000000e+00 9.76250702e-01]\n",
      " [0.00000000e+00 0.00000000e+00 0.00000000e+00 0.00000000e+00]]\n"
     ]
    }
   ],
   "source": [
    "print(\"Final Q-Table Values \")\n",
    "print(Q)"
   ]
  }
 ],
 "metadata": {
  "kernelspec": {
   "display_name": "Python 3",
   "language": "python",
   "name": "python3"
  },
  "language_info": {
   "codemirror_mode": {
    "name": "ipython",
    "version": 3
   },
   "file_extension": ".py",
   "mimetype": "text/x-python",
   "name": "python",
   "nbconvert_exporter": "python",
   "pygments_lexer": "ipython3",
   "version": "3.6.8"
  }
 },
 "nbformat": 4,
 "nbformat_minor": 2
}
