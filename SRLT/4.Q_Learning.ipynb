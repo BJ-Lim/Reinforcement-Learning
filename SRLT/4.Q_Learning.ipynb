{
 "cells": [
  {
   "cell_type": "markdown",
   "metadata": {},
   "source": [
    "<center><h1>Q 러닝</h1></center>"
   ]
  },
  {
   "cell_type": "markdown",
   "metadata": {},
   "source": [
    "- Bellman Equation : ${ Q\\left( s,a \\right)  }^{ * } = r + \\gamma \\left( max\\left( Q\\left( s',a' \\right)  \\right)  \\right) $\n",
    "  - 기대되는 장기 보상 = 현재의 액션에서 얻는 즉각적 보상 + 다음 상태에서 취할 최선의 미래의 액션에서 기대되는 보상\n",
    "  - Q : 어떤 상태와 액션에 대한 최적의 값\n",
    "  - s : 어떤 상태\n",
    "  - a : 어떤 액션\n",
    "  - r : 현재 보상\n",
    "  - s' : 다음 상태\n",
    "  - a' : 다음 액션\n",
    "  - $\\gamma$ : 할인 계수(현재의 보상에 비해 미래의 가능한 보상이 얼마나 중요한지 비율을 결정)"
   ]
  },
  {
   "cell_type": "markdown",
   "metadata": {},
   "source": [
    "### ex) Q테이블을 이용한 얼어붙은 강 예제(Frozen_lake)"
   ]
  },
  {
   "cell_type": "code",
   "execution_count": 1,
   "metadata": {},
   "outputs": [],
   "source": [
    "import gym\n",
    "import numpy as np\n",
    "import random\n",
    "import matplotlib.pyplot as plt\n",
    "%matplotlib inline"
   ]
  },
  {
   "cell_type": "code",
   "execution_count": 2,
   "metadata": {},
   "outputs": [],
   "source": [
    "env = gym.make('FrozenLake-v0')"
   ]
  },
  {
   "cell_type": "code",
   "execution_count": 7,
   "metadata": {},
   "outputs": [],
   "source": [
    "Q = np.zeros([env.observation_space.n, env.action_space.n])\n",
    "lr = .85\n",
    "y = .99\n",
    "num_episodes = 2000\n",
    "rList = []\n",
    "for i in range(num_episodes):\n",
    "    s = env.reset()\n",
    "    rAll = 0\n",
    "    d = False\n",
    "    j = 0\n",
    "    while j < 99:\n",
    "        j+=1\n",
    "        a = np.argmax(Q[s,:] + np.random.randn(1,env.action_space.n) * (1./(i+1)))\n",
    "        s1, r, d, _ = env.step(a)\n",
    "        Q[s,a] = Q[s,a] + lr*(r + y*np.max(Q[s1,:]) - Q[s,a])\n",
    "        rAll += r\n",
    "        s = s1\n",
    "        if d == True:\n",
    "            break\n",
    "    rList.append(rAll)"
   ]
  },
  {
   "cell_type": "code",
   "execution_count": 8,
   "metadata": {},
   "outputs": [
    {
     "name": "stdout",
     "output_type": "stream",
     "text": [
      "Score over time: 0.519\n"
     ]
    }
   ],
   "source": [
    "print(\"Score over time: \" + str(sum(rList)/num_episodes))"
   ]
  },
  {
   "cell_type": "code",
   "execution_count": 10,
   "metadata": {},
   "outputs": [
    {
     "name": "stdout",
     "output_type": "stream",
     "text": [
      "Final Q-Table Values \n",
      "[[6.20313591e-01 6.12098375e-03 4.09846520e-03 1.04903700e-02]\n",
      " [1.66633627e-03 4.17973571e-05 1.97711336e-04 5.77891994e-01]\n",
      " [1.68291916e-03 4.54257633e-01 9.67967301e-03 7.64893949e-03]\n",
      " [1.90191200e-04 1.76137061e-04 1.11804400e-03 3.57198862e-01]\n",
      " [4.84786593e-01 5.47977349e-03 2.23803726e-04 1.71753401e-04]\n",
      " [0.00000000e+00 0.00000000e+00 0.00000000e+00 0.00000000e+00]\n",
      " [7.12601250e-02 3.02713425e-07 2.14782512e-04 2.72260443e-05]\n",
      " [0.00000000e+00 0.00000000e+00 0.00000000e+00 0.00000000e+00]\n",
      " [3.80443237e-03 3.40926739e-03 4.89719602e-04 6.34715754e-01]\n",
      " [2.61406798e-03 3.90341391e-01 2.96087909e-04 4.88672612e-04]\n",
      " [3.81326860e-01 4.40253144e-04 1.77158116e-03 0.00000000e+00]\n",
      " [0.00000000e+00 0.00000000e+00 0.00000000e+00 0.00000000e+00]\n",
      " [0.00000000e+00 0.00000000e+00 0.00000000e+00 0.00000000e+00]\n",
      " [7.54392569e-03 2.46905055e-03 3.68995025e-01 7.72904189e-04]\n",
      " [0.00000000e+00 0.00000000e+00 8.94308949e-01 0.00000000e+00]\n",
      " [0.00000000e+00 0.00000000e+00 0.00000000e+00 0.00000000e+00]]\n"
     ]
    }
   ],
   "source": [
    "print(\"Final Q-Table Values \")\n",
    "print(Q)"
   ]
  },
  {
   "cell_type": "markdown",
   "metadata": {},
   "source": [
    "### ex) 신경망을 이용한 얼어붙은 강 예제(Frozen_lake)"
   ]
  },
  {
   "cell_type": "code",
   "execution_count": null,
   "metadata": {},
   "outputs": [],
   "source": []
  }
 ],
 "metadata": {
  "kernelspec": {
   "display_name": "Python 3",
   "language": "python",
   "name": "python3"
  },
  "language_info": {
   "codemirror_mode": {
    "name": "ipython",
    "version": 3
   },
   "file_extension": ".py",
   "mimetype": "text/x-python",
   "name": "python",
   "nbconvert_exporter": "python",
   "pygments_lexer": "ipython3",
   "version": "3.6.8"
  }
 },
 "nbformat": 4,
 "nbformat_minor": 2
}
