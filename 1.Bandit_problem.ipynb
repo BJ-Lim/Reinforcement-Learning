{
 "cells": [
  {
   "cell_type": "code",
   "execution_count": 9,
   "metadata": {},
   "outputs": [],
   "source": [
    "# import basic packages \n",
    "import tensorflow as tf\n",
    "import tensorflow.contrib.slim as slim\n",
    "import numpy as np"
   ]
  },
  {
   "cell_type": "code",
   "execution_count": 10,
   "metadata": {},
   "outputs": [],
   "source": [
    "# 밴딧의 손잡이 목록\n",
    "bandit_arms = [0.2, 0, -0.2, -2]\n",
    "num_arms = len(bandit_arms)\n",
    "def pullBandit(bandit):\n",
    "    result = np.random.randn(1)\n",
    "    if result > bandit:\n",
    "        return 1\n",
    "    else:\n",
    "        return -1"
   ]
  },
  {
   "cell_type": "code",
   "execution_count": 11,
   "metadata": {},
   "outputs": [],
   "source": [
    "tf.reset_default_graph()\n",
    "\n",
    "weights = tf.Variable(tf.ones([num_arms]))\n",
    "output = tf.nn.softmax(weights)\n",
    "\n",
    "reward_holder = tf.placeholder(shape=[1], dtype=tf.float32)\n",
    "action_holder = tf.placeholder(shape=[1], dtype=tf.int32)\n",
    "\n",
    "responsible_output = tf.slice(output, action_holder, [1])\n",
    "loss = -(tf.log(responsible_output) * reward_holder)\n",
    "optimizer = tf.train.AdamOptimizer(learning_rate=1e-3)\n",
    "update = optimizer.minimize(loss)"
   ]
  },
  {
   "cell_type": "code",
   "execution_count": 8,
   "metadata": {},
   "outputs": [
    {
     "name": "stdout",
     "output_type": "stream",
     "text": [
      "Running reward for the 4 arms of the bandit: [1. 0. 0. 0.]\n",
      "Running reward for the 4 arms of the bandit: [-8. -2.  7. 12.]\n",
      "Running reward for the 4 arms of the bandit: [-11.  -3.  13.  22.]\n",
      "Running reward for the 4 arms of the bandit: [-15.  -5.  16.  41.]\n",
      "Running reward for the 4 arms of the bandit: [-13.  -6.  14.  52.]\n",
      "Running reward for the 4 arms of the bandit: [-11.  -2.  16.  62.]\n",
      "Running reward for the 4 arms of the bandit: [-10.   2.  19.  78.]\n",
      "Running reward for the 4 arms of the bandit: [-10.   1.  18.  96.]\n",
      "Running reward for the 4 arms of the bandit: [ -9.   6.  18. 110.]\n",
      "Running reward for the 4 arms of the bandit: [ -9.   2.  25. 127.]\n",
      "Running reward for the 4 arms of the bandit: [ -5.   0.  25. 137.]\n",
      "Running reward for the 4 arms of the bandit: [ -2.   3.  29. 153.]\n",
      "Running reward for the 4 arms of the bandit: [ -7.   2.  26. 164.]\n",
      "Running reward for the 4 arms of the bandit: [ -8.   2.  23. 180.]\n",
      "Running reward for the 4 arms of the bandit: [-14.   0.  19. 194.]\n",
      "Running reward for the 4 arms of the bandit: [ -9.   5.  22. 209.]\n",
      "Running reward for the 4 arms of the bandit: [ -6.   7.  23. 231.]\n",
      "Running reward for the 4 arms of the bandit: [ -6.   8.  25. 244.]\n",
      "Running reward for the 4 arms of the bandit: [ -2.   9.  31. 259.]\n",
      "Running reward for the 4 arms of the bandit: [ -3.  11.  34. 285.]\n",
      "\n",
      "The agent thinks arm 4 is the most promising....\n",
      "...and it was right!\n"
     ]
    }
   ],
   "source": [
    "total_episodes = 1000\n",
    "total_reward = np.zeros(num_arms)\n",
    "\n",
    "init = tf.global_variables_initializer()\n",
    "\n",
    "with tf.Session() as sess:\n",
    "    sess.run(init)\n",
    "    i = 0\n",
    "    while i < total_episodes:\n",
    "        actions = sess.run(output)\n",
    "        a = np.random.choice(actions, p=actions)\n",
    "        action = np.argmax(actions == a)\n",
    "        \n",
    "        reward = pullBandit(bandit_arms[action])\n",
    "        \n",
    "        _, resp, ww = sess.run([update, responsible_output, weights], \\\n",
    "                              feed_dict={reward_holder:[reward], action_holder:[action]})\n",
    "        \n",
    "        total_reward[action] += reward\n",
    "        if i % 50 == 0:\n",
    "            print(\"Running reward for the \" + str(num_arms) + \" arms of the bandit: \" + str(total_reward))\n",
    "        \n",
    "        i += 1\n",
    "        \n",
    "print(\"\\nThe agent thinks arm \" + str(np.argmax(ww)+1) + \" is the most promising....\")\n",
    "if np.argmax(ww) == np.argmax(-np.array(bandit_arms)):\n",
    "    print(\"...and it was right!\")\n",
    "else:\n",
    "    print(\"...and it was wrong!\")"
   ]
  },
  {
   "cell_type": "code",
   "execution_count": null,
   "metadata": {},
   "outputs": [],
   "source": []
  }
 ],
 "metadata": {
  "kernelspec": {
   "display_name": "Python 3",
   "language": "python",
   "name": "python3"
  },
  "language_info": {
   "codemirror_mode": {
    "name": "ipython",
    "version": 3
   },
   "file_extension": ".py",
   "mimetype": "text/x-python",
   "name": "python",
   "nbconvert_exporter": "python",
   "pygments_lexer": "ipython3",
   "version": "3.6.8"
  }
 },
 "nbformat": 4,
 "nbformat_minor": 2
}
